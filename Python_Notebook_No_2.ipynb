{
  "nbformat": 4,
  "nbformat_minor": 0,
  "metadata": {
    "colab": {
      "provenance": []
    },
    "kernelspec": {
      "name": "python3",
      "display_name": "Python 3"
    },
    "language_info": {
      "name": "python"
    }
  },
  "cells": [
    {
      "cell_type": "markdown",
      "source": [
        "# Notebook 2: Introduction to Inductors, Capacitors, and Phasors Pt. 2\n",
        "\n",
        "This notebook is intended for use within Google Colab."
      ],
      "metadata": {
        "id": "p15iFpBVWhuP"
      }
    },
    {
      "cell_type": "markdown",
      "source": [
        "# Introduction\n",
        "\n",
        "This notebook will cover how to program phasors, and introduce the phase differences caused by inductors and capacitors.\n",
        "\n",
        "Inductors and capacitors can change the phase at which the circuit operates. This means simple addition of two voltages at different components of the circuit will not always represent the actual output voltage. This notebook will guide you on how to plot a phasor and how to plot the different wave outputs caused by each type of impedance."
      ],
      "metadata": {
        "id": "45Fzs41AXrc2"
      }
    },
    {
      "cell_type": "markdown",
      "source": [
        "# Concept 1: Plotting a phasor"
      ],
      "metadata": {
        "id": "Wthh2UtFvP8v"
      }
    },
    {
      "cell_type": "code",
      "source": [
        "import numpy as np\n",
        "import matplotlib.pyplot as plt"
      ],
      "metadata": {
        "id": "U6TcptV5voaP"
      },
      "execution_count": null,
      "outputs": []
    },
    {
      "cell_type": "markdown",
      "source": [
        "In the last notebook, we learned how to plot a unit circle. Now we want to add a phasor to the plot! This is a little more complicated than the unit circle because we need to consider that it has coordinates for tail and the tips of the arrows, along with a phase difference. To plot the phasor, we will be using the command:\n",
        "\n",
        "```\n",
        "ax.quiver(tail_xcoord, tail_ycoord, x_velocity, y_velocity, angle_coordinate_type)\n",
        "```\n",
        "\n",
        "**x_velocity** and **y_velocity** simply mean how much the arrows move in certain in the x and y directions for each point on the map. This means that $\\frac{y_{velocity}}{x_{velocity}}$ will give the slope.\n",
        "\n",
        "Like the circle, this command can be adjusted to change the colour and size of the phasor.\n",
        "\n",
        "Because the phasor has to be added to the plot, we will need to use the same command as shown in notebook 1 to create the subplots.\n",
        "\n",
        "Here is an example:"
      ],
      "metadata": {
        "id": "ai19zKjNvdKO"
      }
    },
    {
      "cell_type": "code",
      "source": [
        "fig, ax = plt.subplots()\n",
        "\n",
        "ax.quiver(0, 0, 1, 0, angles='xy', scale_units='xy', scale=1, color='r', linewidth=2) # The phasor plotted in cartesian coordinates (the angles='xy')\n",
        "\n",
        "ax.set_xlim(-1.5, 1.5)\n",
        "ax.set_ylim(-1.5, 1.5)\n",
        "ax.set_xlabel('X')\n",
        "ax.set_ylabel('Y')\n",
        "ax.set_title('Phasor Representation')\n",
        "ax.set_aspect('equal')\n",
        "plt.grid(True)"
      ],
      "metadata": {
        "id": "GgzPGwbZvZjR"
      },
      "execution_count": null,
      "outputs": []
    },
    {
      "cell_type": "markdown",
      "source": [
        "---\n",
        "\n",
        "**Task 1**\n",
        "\n",
        "Plot a phasor on a graph that has equal axes, a grid, and is at an angle of 45$^{\\circ}$ from the x-axis. Keep in mind, when using trigonometric functions, your angle should be given in **radians**. You can convert degrees to radians using the command:\n",
        "\n",
        "```\n",
        "np.radians(angle)\n",
        "```"
      ],
      "metadata": {
        "id": "C_zpRtfNvtlw"
      }
    },
    {
      "cell_type": "code",
      "source": [
        "                # Make the subplots here\n",
        "\n",
        "# Phasor variables\n",
        "magnitude = 1\n",
        "angle_degrees =\n",
        "x =\n",
        "y =\n",
        "\n",
        "# Plot the phasor here\n",
        "\n",
        "\n",
        "\n",
        "# Graph specifications (Adjust these to be reasonable)\n",
        "\n",
        "ax.set_xlim(-15, 15)\n",
        "ax.set_ylim(-15, 15)\n",
        "ax.set_xlabel('X')\n",
        "ax.set_ylabel('Y')\n",
        "ax.set_title('Phasor')\n"
      ],
      "metadata": {
        "id": "EU5Yw-i6vuHR"
      },
      "execution_count": null,
      "outputs": []
    },
    {
      "cell_type": "markdown",
      "source": [
        "Now, we can plot the phasor and the unit circle together! You can copy paste the code for the unit circle and the phasor."
      ],
      "metadata": {
        "id": "B5rMx4sEvwKO"
      }
    },
    {
      "cell_type": "code",
      "source": [
        "\n",
        "\n",
        "# Circle code is given here!\n",
        "circle = plt.Circle((0, 0), 1, color='steelblue', fill=False, linestyle='--') # unit circle\n",
        "ax.add_artist(circle)"
      ],
      "metadata": {
        "id": "UQ_-04EbvxeN"
      },
      "execution_count": null,
      "outputs": []
    },
    {
      "cell_type": "markdown",
      "source": [
        "Now let's see a diagram with the phasor, unit circle, and wave together. We will say that frequency ($f$) is 4Hz.  "
      ],
      "metadata": {
        "id": "JYktcMgevx0L"
      }
    },
    {
      "cell_type": "code",
      "source": [
        "fig, ax1 = plt.subplots()\n",
        "\n",
        "# Phasor parameters\n",
        "magnitude = 1  # Magnitude of the phasor\n",
        "angle_degrees = 45  # Angle in degrees\n",
        "\n",
        "rad = np.radians(angle_degrees)\n",
        "\n",
        "x = magnitude * np.cos(rad) # x\n",
        "y = magnitude * np.sin(rad) # y\n",
        "\n",
        "# Phasor\n",
        "ax1.quiver(0, 0, x, y, angles='xy', scale_units='xy', scale=1, color='r', linewidth=2)\n",
        "\n",
        "# Sine Wave\n",
        "f = 4\n",
        "time = np.linspace(0, np.pi, 1000, endpoint=False)\n",
        "wave = np.sin(2*np.pi*time*f + rad)\n",
        "time += 1/np.sqrt(2) # Delaying the start of the sine wave to be the x-coordinate of the phasor\n",
        "\n",
        "# Defining plot parameters and different axes\n",
        "ax1.set_xlim(-1.5, np.pi)\n",
        "ax1.set_ylim(-1.5, 1.5)\n",
        "ax1.set_xlabel('X')\n",
        "ax1.set_ylabel('Y', color='r')\n",
        "ax1.set_title('Phasor Representation')\n",
        "\n",
        "ax2=ax1.twinx()\n",
        "ax2.set_ylabel('Amplitude (V)', color='steelblue')\n",
        "ax2.set_ylim(-1.5, 1.5)\n",
        "\n",
        "volt = ax2.plot(time, wave, '-', color='steelblue')\n",
        "\n",
        "circle = plt.Circle((0, 0), 1, color='steelblue', fill=False, linestyle='--') # unit circle\n",
        "ax1.add_artist(circle)\n",
        "\n",
        "ax1.set_aspect('equal')\n",
        "ax2.set_aspect('equal')\n",
        "plt.grid(True)\n",
        "plt.axhline(0, color='black',linewidth=0.5)\n",
        "plt.axvline(0, color='black',linewidth=0.5)\n",
        "plt.show()\n"
      ],
      "metadata": {
        "id": "RUiSwOoGv0b1"
      },
      "execution_count": null,
      "outputs": []
    },
    {
      "cell_type": "markdown",
      "source": [
        "---\n",
        "**Task 2**\n",
        "\n",
        "The phasor is now changed to be at 70$^{\\circ}$ instead of 45$^{\\circ}$.The wave must also be shifted to match the phasor. In the code cell below, adjust the parameters of the wave to match the phase of the phasor."
      ],
      "metadata": {
        "id": "H8CTIWZPd4AJ"
      }
    },
    {
      "cell_type": "code",
      "source": [
        "fig, ax1 = plt.subplots()\n",
        "\n",
        "# Phasor parameters\n",
        "magnitude = 1  # Magnitude of the phasor\n",
        "angle_degrees = 70  # Angle in degrees\n",
        "\n",
        "rad = # angle in radians\n",
        "\n",
        "# Set x and y here\n",
        "\n",
        "# Phasor (leave this one alone)\n",
        "ax1.quiver(0, 0, x, y, angles='xy', scale_units='xy', scale=1, color='r', linewidth=2)\n",
        "\n",
        "# Sine Wave\n",
        "f = 10\n",
        "t = np.linspace(0, 2*np.pi, 1000, endpoint=False)\n",
        "wave = np.sin(2*np.pi*t*f + )\n",
        "t +=\n",
        "\n",
        "# Defining plot parameters and different axes\n",
        "ax1.set_xlim(-1.5, np.pi)\n",
        "ax1.set_ylim(-1.5, 1.5)\n",
        "ax1.set_xlabel('X')\n",
        "ax1.set_ylabel('Y', color='r')\n",
        "ax1.set_title('Phasor Representation')\n",
        "\n",
        "ax2=ax1.twinx()\n",
        "ax2.set_ylabel('Amplitude (V)', color='steelblue')\n",
        "ax2.set_ylim(-1.5, 1.5)\n",
        "\n",
        "volt = ax2.plot(t, wave, '-', color='steelblue')\n",
        "\n",
        "circle = plt.Circle((0, 0), 1, color='steelblue', fill=False, linestyle='--') # unit circle\n",
        "ax1.add_artist(circle)\n",
        "\n",
        "ax1.set_aspect('equal')\n",
        "ax2.set_aspect('equal')\n",
        "plt.grid(True)\n",
        "plt.axhline(0, color='black',linewidth=0.5)\n",
        "plt.axvline(0, color='black',linewidth=0.5)\n",
        "plt.show()\n"
      ],
      "metadata": {
        "id": "BsRjCJjGd_Ao"
      },
      "execution_count": null,
      "outputs": []
    },
    {
      "cell_type": "markdown",
      "source": [
        "# Capacitors"
      ],
      "metadata": {
        "id": "ZcOc1oauhvv2"
      }
    },
    {
      "cell_type": "markdown",
      "source": [
        "Now that we know how to plot a phasor, we can plot multiple phasors which can represent the currents/voltages of an impedance in comparison to the source. In this case, we will look at how a capacitor affects the current of a circuit.\n",
        "\n",
        "Firstly, let's understand the acronym **CIVIL**. This stands for **C**(Capacitor) **I** (Current) **V**(Voltage) **I**(Current) **L**(Inductor). It helps us remember if either the current or the voltage is ahead. So in a capacitor, the following two letters let us know the order. In an inductor, the previous two letters tell us the order.\n",
        "\n",
        "Using **CIVIL**, we can see that a **capacitor** ($C$) has a current that *leads* the voltage by $\\frac{\\pi}{2}$ radians because the **I** is in front of the **V**. This means that the voltage in a resistor ($R$), which follows the phase of the current of the circuit, will be **ahead** of the voltage in a capacitor by $\\frac{\\pi}{2}$ radians. Let's see that represented with phasors."
      ],
      "metadata": {
        "id": "KXl2CzKbhyxE"
      }
    },
    {
      "cell_type": "code",
      "source": [
        "# Phasor parameters\n",
        "r_voltage = 0.5  # Resistor voltage\n",
        "c_voltage = 1 # Capacitor voltage\n",
        "i = 0.75 # Current\n",
        "\n",
        "degrees1 = 45  # Angle in degrees\n",
        "degrees2 = degrees1-90\n",
        "\n",
        "\n",
        "angle_radians1 = np.radians(degrees1)\n",
        "angle_radians2 = np.radians(degrees2)\n",
        "\n",
        "# Resistor parameters\n",
        "x1 = r_voltage * np.cos(angle_radians1) # x\n",
        "y1 = r_voltage * np.sin(angle_radians1) # y\n",
        "\n",
        "# Capacitor parameters\n",
        "x2 = c_voltage * np.cos(angle_radians2)\n",
        "y2 = c_voltage * np.sin(angle_radians2)\n",
        "\n",
        "# Current parameters\n",
        "x3 = i * np.cos(angle_radians1)\n",
        "y3 = i * np.sin(angle_radians1)\n",
        "\n",
        "fig, ax = plt.subplots()\n",
        "\n",
        "Q2 = ax.quiver(0, 0, x2, y2, angles='xy', scale_units='xy', scale=1, color='steelblue', linewidth=2)\n",
        "Q3 = ax.quiver(0, 0, x3, y3, angles='xy', scale_units='xy', scale=1, color='limegreen', linewidth=2)\n",
        "Q1 = ax.quiver(0, 0, x1, y1, angles='xy', scale_units='xy', scale=1, color='crimson', linewidth=4)\n",
        "\n",
        "ax.set_xlim(-1.5, 1.5)\n",
        "ax.set_ylim(-1.5, 1.5)\n",
        "ax.set_xlabel('X')\n",
        "ax.set_ylabel('Y')\n",
        "ax.set_title('Phasor Representation of the Currents and Voltage')\n",
        "\n",
        "circle = plt.Circle((0, 0), 1, color='b', fill=False, linestyle='--') # unit circle\n",
        "ax.add_artist(circle)\n",
        "\n",
        "ax.set_aspect('equal')\n",
        "plt.grid(True)\n",
        "plt.axhline(0, color='black',linewidth=0.3)\n",
        "plt.axvline(0, color='black',linewidth=0.3)\n",
        "plt.quiverkey(Q1, 0.07, 1.2, 0.5, 'Resistor Voltage', coordinates='data', labelcolor ='crimson')\n",
        "plt.quiverkey(Q2, -0.9, 1.2, 0.5, 'Capacitor Voltage', coordinates='data', labelcolor ='turquoise')\n",
        "plt.quiverkey(Q3, 0.96, 1.2, 0.5, 'Circuit Current', coordinates='data', labelcolor ='limegreen')\n",
        "plt.show()"
      ],
      "metadata": {
        "id": "MPDu3-JAhyO5"
      },
      "execution_count": null,
      "outputs": []
    },
    {
      "cell_type": "markdown",
      "source": [
        "As we can see, the current and voltage in the resistor will follow each other, and the voltage in the capacitor is delayed. How about the waves produced by these phasors?"
      ],
      "metadata": {
        "id": "zRsfTH-P9e8b"
      }
    },
    {
      "cell_type": "code",
      "source": [
        "t = np.linspace(0, 0.2, 1000, endpoint=False)\n",
        "f = 10\n",
        "\n",
        "voltager = r_voltage * np.sin(2*np.pi*f*t + angle_radians1)\n",
        "voltagec = c_voltage * np.sin(2*np.pi*f*t + angle_radians2)\n",
        "current = i * np.sin(2*np.pi*f*t + angle_radians1)\n",
        "\n",
        "composite_plot, (Current, VoltageC, VoltageR) = plt.subplots(3)\n",
        "\n",
        "# Current waveform\n",
        "Current.plot(t, current, color='limegreen')\n",
        "Current.set_title(\"Current waveform vs Time\")\n",
        "Current.set_ylabel(\"Current (A)\")\n",
        "Current.set_xlabel(\"Time (s)\")\n",
        "\n",
        "# Resistor Voltage waveform\n",
        "\n",
        "VoltageR.plot(t, voltager, color='crimson')\n",
        "VoltageR.set_title(\"Resistor Voltage waveform vs Time\")\n",
        "VoltageR.set_ylabel(\"Voltage (V)\")\n",
        "VoltageR.set_xlabel(\"Time (s)\")\n",
        "\n",
        "# Capacitor Voltage waveform\n",
        "VoltageC.plot(t, voltagec, color='turquoise')\n",
        "VoltageC.set_title(\"Capacitor Voltage waveform vs Time\")\n",
        "VoltageC.set_ylabel(\"Voltage (V)\")\n",
        "VoltageC.set_xlabel(\"Time (s)\")\n",
        "\n",
        "composite_plot.subplots_adjust(hspace=0.9) # Adding vertical space between the graphs\n",
        "\n"
      ],
      "metadata": {
        "id": "7o6f2YLC9gsg"
      },
      "execution_count": null,
      "outputs": []
    },
    {
      "cell_type": "markdown",
      "source": [
        "As we can see, the resistor's voltage follows the same phase as the current, but the capacitor's waveform has a different phase. Experiment around with the angle of the first phasor and see how it affects the phase of the capacitor waveform.\n",
        "\n",
        "---\n",
        "**Task 3**\n",
        "\n",
        "A RC circuit is made up of a resistor and a capacitor. The circuit's current is 1A. The resistor has a resistance of 3$\\Omega$ and the capacitor has a capacitance of 100$\\mu$F. Assuming that the circuit is operating at the mains frequency of 50Hz, Find:\n",
        "\n",
        "a) The reactance of the capacitor\n",
        "\n",
        "b) Voltage over the resistor\n",
        "\n",
        "c) Voltage over the capacitor"
      ],
      "metadata": {
        "id": "dhppnmA_TUhs"
      }
    },
    {
      "cell_type": "code",
      "source": [
        "#A\n",
        "\n",
        "\n",
        "#B\n",
        "\n",
        "\n",
        "#C"
      ],
      "metadata": {
        "id": "3j0dQWsMjkep"
      },
      "execution_count": null,
      "outputs": []
    },
    {
      "cell_type": "markdown",
      "source": [
        "Using this information, plot two phasors to represent the voltages in the resistor and capacitor."
      ],
      "metadata": {
        "id": "qojlZzaqjnov"
      }
    },
    {
      "cell_type": "code",
      "source": [
        "# Phasor parameters\n",
        "mag =\n",
        "mag2 =\n",
        "\n",
        "degrees1 = 45  # Leave this angle and adjust the other one!\n",
        "degrees2 = 0\n",
        "\n",
        "        # x\n",
        "        # y\n",
        "\n",
        "\n"
      ],
      "metadata": {
        "id": "dO5D--8Ijvcs"
      },
      "execution_count": null,
      "outputs": []
    },
    {
      "cell_type": "markdown",
      "source": [
        "And finally, plot the corresponding waveforms! Make sure to create an array for the values of *x* you will use."
      ],
      "metadata": {
        "id": "p-L0mnpR-UY6"
      }
    },
    {
      "cell_type": "code",
      "source": [
        "composite_plot, (VoltageC, VoltageR) = plt.subplots(2)\n",
        "\n",
        "# Resistor Voltage waveform\n",
        "\n",
        "VoltageR.plot( ,  , color='crimson')\n",
        "VoltageR.set_title(\"Resistor Voltage waveform vs Time\")\n",
        "VoltageR.set_ylabel(\"Voltage (V)\")\n",
        "VoltageR.set_xlabel(\"Time (s)\")\n",
        "\n",
        "# Capacitor Voltage waveform\n",
        "VoltageC.plot( ,  , color='turquoise')\n",
        "VoltageC.set_title(\"Capacitor Voltage waveform vs Time\")\n",
        "VoltageC.set_ylabel(\"Voltage (V)\")\n",
        "VoltageC.set_xlabel(\"Time (s)\")"
      ],
      "metadata": {
        "id": "jiCJdsx2-yQp"
      },
      "execution_count": null,
      "outputs": []
    },
    {
      "cell_type": "markdown",
      "source": [
        "---\n",
        "\n",
        "Now that we know about how to plot the separate voltages, how about the voltage across the supply? Because there is a phase difference, we can't simply add the two voltages together. However, there is a handy rule we can use when adding two phasors together, especially if they have a right angle between them.\n",
        "\n",
        "$$a^2+b^2 = c^2$$\n",
        "\n",
        "We can use this to *calculate* for the value of the voltage. If we want to plot it, we can simply add  \n",
        "\n",
        "Let's see an example of a resultant phasor below:"
      ],
      "metadata": {
        "id": "bAp7He5m_FcM"
      }
    },
    {
      "cell_type": "code",
      "source": [
        "r_volt = 1\n",
        "c_volt = 2\n",
        "i = 0.75\n",
        "\n",
        "degrees1 = 45\n",
        "degrees2 = degrees1-90\n",
        "\n",
        "angle_radians1 = np.radians(degrees1)\n",
        "angle_radians2 = np.radians(degrees2)\n",
        "\n",
        "# Resistor\n",
        "x1 = r_volt * np.cos(angle_radians1)\n",
        "y1 = r_volt * np.sin(angle_radians1)\n",
        "\n",
        "# Capacitor\n",
        "x2 = c_volt * np.cos(angle_radians2)\n",
        "y2 = c_volt * np.sin(angle_radians2)\n",
        "\n",
        "# Current\n",
        "x3 = i * np.cos(angle_radians1)\n",
        "y3 = i * np.sin(angle_radians1)\n",
        "\n",
        "# Figure with 1 row and 2 columns\n",
        "fig, axs = plt.subplots(1, 2, figsize=(10, 5))  # 1 row, 2 columns\n",
        "\n",
        "# Plot on the first subplot (left)\n",
        "\n",
        "# Phasors\n",
        "Q1 = axs[0].quiver(0, 0, x1, y1, angles='xy', scale_units='xy', scale=1, color='crimson', linewidth=2)\n",
        "Q5 = axs[0].quiver(x2, y2, y1, y1, angles='xy', scale_units='xy', scale=1, color='lightcoral', linewidth=0) # to complete the rectangle\n",
        "\n",
        "Q2 = axs[0].quiver(0, 0, x2, y2, angles='xy', scale_units='xy', scale=1, color='turquoise', linewidth=4)\n",
        "Q6 = axs[0].quiver(x1, x1, x2, y2, angles='xy', scale_units='xy', scale=1, color='paleturquoise', linewidth=0) # to complete the rectangle\n",
        "# Current phasor from above\n",
        "Q3 = axs[0].quiver(0, 0, x3, y3, angles='xy', scale_units='xy', scale=1, color='limegreen', linewidth=4)\n",
        "\n",
        "# Resultant phasor\n",
        "Q4 = axs[0].quiver(0, 0, x1+x2, y1+y2, angles='xy', scale_units='xy', scale=1, color='orange', linewidth=4)\n",
        "\n",
        "# circles\n",
        "circle = plt.Circle((0, 0), 1, color='crimson', fill=False, linestyle='--')\n",
        "axs[0].add_artist(circle)\n",
        "\n",
        "circle_capacitor = plt.Circle((0, 0), c_volt, color='turquoise', fill=False, linestyle='--')\n",
        "axs[0].add_artist(circle_capacitor)\n",
        "\n",
        "circle_current = plt.Circle((0, 0), i, color='limegreen', fill=False, linestyle='--')\n",
        "axs[0].add_artist(circle_current)\n",
        "\n",
        "circle_result = plt.Circle((0, 0), np.sqrt(r_volt**2+c_volt**2), color='orange', fill=False, linestyle='--')\n",
        "axs[0].add_artist(circle_result)\n",
        "\n",
        "axs[0].set_xlim(-3, 3)\n",
        "axs[0].set_ylim(-3, 3)\n",
        "axs[0].set_xlabel('X')\n",
        "axs[0].set_ylabel('Y')\n",
        "axs[0].set_title('Phasor Representation of the Currents and Voltage')\n",
        "axs[0].set_aspect('equal')\n",
        "axs[0].grid(True)\n",
        "\n",
        "# Plot on the second subplot (right)\n",
        "\n",
        "#Phasors\n",
        "Q7 = axs[1].quiver(0, 0, x1, y1, angles='xy', scale_units='xy', scale=1, color='crimson', linewidth=4)\n",
        "Q8 = axs[1].quiver(x1, y1, x2, y2, angles='xy', scale_units='xy', scale=1, color='turquoise', linewidth=2)\n",
        "\n",
        "# Current phasor from above\n",
        "Q9 = axs[1].quiver(0, 0, x3, y3, angles='xy', scale_units='xy', scale=1, color='limegreen', linewidth=2)\n",
        "\n",
        "# Resultant phasor\n",
        "Q10 = axs[1].quiver(0, 0, x1+x2, y1+y2, angles='xy', scale_units='xy', scale=1, color='orange', linewidth=3)\n",
        "\n",
        "# circle\n",
        "circle1 = plt.Circle((0, 0), r_volt, color='crimson', fill=False, linestyle='--')\n",
        "axs[1].add_artist(circle1)\n",
        "\n",
        "circle3 = plt.Circle((0, 0), i, color='limegreen', fill=False, linestyle='--')\n",
        "axs[1].add_artist(circle3)\n",
        "\n",
        "circle4 = plt.Circle((0, 0), np.sqrt(r_volt**2+c_volt**2), color='orange', fill=False, linestyle='--')\n",
        "axs[1].add_artist(circle4)\n",
        "\n",
        "axs[1].set_xlim(-3, 3)\n",
        "axs[1].set_ylim(-3, 3)\n",
        "axs[1].set_xlabel('X')\n",
        "axs[1].set_ylabel('Y')\n",
        "axs[1].set_title('Phasor Representation of the Currents and Voltage')\n",
        "axs[1].set_aspect('equal')\n",
        "axs[1].grid(True)\n",
        "\n",
        "plt.quiverkey(Q1, -2, 2.1, 0.5, 'Resistor Voltage', coordinates='data', labelcolor ='crimson')\n",
        "plt.quiverkey(Q2, 2, 2.1, 0.5, 'Capacitor Voltage', coordinates='data', labelcolor ='turquoise')\n",
        "plt.quiverkey(Q3, -2, -2.1, 0.5, 'Current', coordinates='data', labelcolor ='limegreen')\n",
        "plt.quiverkey(Q4, 2, -2.1, 0.5, 'Resultant Voltage', coordinates='data', labelcolor ='orange')\n",
        "\n",
        "# showing plots\n",
        "plt.tight_layout()\n",
        "plt.show()\n",
        "\n",
        "# Resultant phasor magnitude\n",
        "print(np.sqrt(r_volt**2+c_volt**2), 'is the magnitude of the resultant phasor!')"
      ],
      "metadata": {
        "id": "BY14sVRF_T7v"
      },
      "execution_count": null,
      "outputs": []
    },
    {
      "cell_type": "markdown",
      "source": [
        "Note that these two plots are **equivalent**. It is just for demonstrative purposes.\n",
        "\n",
        "A capacitor will **always** lag the circuit's voltage. Keep this in mind when checking to see if your vector is reasonable.\n",
        "\n",
        "Because the circuit is operating at the same frequency, we are able to plot out the sum of the two waves as the *resultant wave*.\n",
        "\n",
        "---\n",
        "**Task 4**\n",
        "\n",
        "Taking the values from Task 3, plot the resultant phasor and its waveform. You are encouraged to copy paste the same code from above and adapt it."
      ],
      "metadata": {
        "id": "BO4BWsmgGSFh"
      }
    },
    {
      "cell_type": "code",
      "source": [
        "# Phasor Code\n",
        "\n",
        "\n",
        "# Waveform code\n",
        "\n",
        "composite_plot, (VoltageC, VoltageR, Resultant) = plt.subplots(3)\n",
        "\n",
        "# Resistor Voltage waveform\n",
        "VoltageR.plot( ,  ,  color='crimson')\n",
        "VoltageR.set_title(\"Resistor Voltage waveform vs Time\")\n",
        "VoltageR.set_ylabel(\"Voltage (V)\")\n",
        "VoltageR.set_xlabel(\"Time (s)\")\n",
        "\n",
        "# Capacitor Voltage waveform\n",
        "VoltageC.plot( ,  , color='turquoise')\n",
        "VoltageC.set_title(\"Capacitor Voltage waveform vs Time\")\n",
        "VoltageC.set_ylabel(\"Voltage (V)\")\n",
        "VoltageC.set_xlabel(\"Time (s)\")\n",
        "\n",
        "# Resultant waveform\n",
        "Resultant.plot(, ,  color='steelblue')\n",
        "Resultant.set_title(\"Resultant waveform vs Time\")\n",
        "Resultant.set_ylabel(\"Voltage (V)\")\n",
        "Resultant.set_xlabel(\"Time (s)\")\n",
        "\n",
        "composite_plot.subplots_adjust(hspace=0.9)"
      ],
      "metadata": {
        "id": "ffs7DosNKGIx"
      },
      "execution_count": null,
      "outputs": []
    },
    {
      "cell_type": "markdown",
      "source": [
        "# Concept 3: Inductors"
      ],
      "metadata": {
        "id": "8T--x3D6MW3J"
      }
    },
    {
      "cell_type": "markdown",
      "source": [
        "Like capacitors, inductors ($L$) also affect the phase at which a circuit operates. Using the same acronym **CIVIL**, we can see that in an **inductor**, voltage *leads* the current by $\\frac{\\pi}{2}$ radians, because the **V** is in front of the **I**.\n",
        "\n",
        "---\n",
        "**Task 5**\n",
        "\n",
        "A circuit consisting of a 3$\\Omega$ resistor, and 2H inductor has a current of 1A. Your frequency is  0.5Hz. Calculate:\n",
        "\n",
        "a) The reactance of the inductor\n",
        "\n",
        "b) The voltage over the resistor\n",
        "\n",
        "c) The voltage over the inductor\n",
        "\n",
        "d) Then, using what you know about inductors, plot the phasors for the voltage of a resistor, the voltage of an inductor, and the current of the circuit. Use the given angle for the current as the one to base your other phasors off of.\n",
        "\n",
        "Note: If you want to edit all instances of a variable name that is used more than once, highlight the variable, and press **Ctrl + D** until all of them are highlighted. This way, you can change them all at the same time!"
      ],
      "metadata": {
        "id": "EgA-yA27A8vX"
      }
    },
    {
      "cell_type": "code",
      "source": [
        "# a\n",
        "\n",
        "\n",
        "\n",
        "\n",
        "\n",
        "# b\n",
        "\n",
        "\n",
        "\n",
        "\n",
        "\n",
        "# c\n",
        "\n",
        "\n",
        "\n",
        "\n",
        "\n",
        "# Phasor parameters\n",
        "r_volt=\n",
        "l_volt =\n",
        "i =\n",
        "current_phase = 45\n",
        "inductor_phase =\n",
        "\n",
        "current_rads = np.radians()\n",
        "inductor_rads = np.radians()\n",
        "\n",
        "# Current parameters\n",
        "xi = i * np.cos()\n",
        "yi = i * np.sin()\n",
        "\n",
        "# Resistor parameters\n",
        "xr = r_volt * np.cos()\n",
        "yr = r_volt * np.sin()\n",
        "\n",
        "# Inductor parameters\n",
        "xl = l_volt * np.cos()\n",
        "yl = l_volt * np.sin()\n",
        "\n",
        "fig, ax = plt.subplots()\n",
        "\n",
        "# Resistor Phasor\n",
        "Q3 = ax.quiver(0, 0,  ,  , angles='xy', scale_units='xy', scale=1, color='crimson', linewidth=2)\n",
        "\n",
        "# Inductor Phasor\n",
        "Q2 = ax.quiver(0, 0,  ,  , angles='xy', scale_units='xy', scale=1, color='orchid', linewidth=2)\n",
        "\n",
        "# Current Phasor (This is put last because it's magnitude is less so putting it last forces it to be on top)\n",
        "Q1 = ax.quiver(0, 0,  ,  , angles='xy', scale_units='xy', scale=1, color='limegreen', linewidth=4)\n",
        "\n",
        "ax.set_xlim(-1.5, 1.5)\n",
        "ax.set_ylim(-1.5, 1.5)\n",
        "ax.set_xlabel('X')\n",
        "ax.set_ylabel('Y')\n",
        "ax.set_title('Phasor Representation of the Currents and Voltage')\n",
        "\n",
        "circle = plt.Circle((0, 0), 1, color='b', fill=False, linestyle='--') # unit circle\n",
        "ax.add_artist(circle)\n",
        "\n",
        "ax.set_aspect('equal')\n",
        "plt.grid(True)\n",
        "plt.axhline(0, color='black',linewidth=0.3)\n",
        "plt.axvline(0, color='black',linewidth=0.3)\n",
        "plt.quiverkey(Q1, 0.07, 1.2, 0.5, 'Resistor Voltage', coordinates='data', labelcolor ='crimson')\n",
        "plt.quiverkey(Q2, -0.9, 1.2, 0.5, 'Inductor Voltage', coordinates='data', labelcolor ='orchid')\n",
        "plt.quiverkey(Q3, 0.96, 1.2, 0.5, 'Circuit Current', coordinates='data', labelcolor ='limegreen')\n",
        "plt.show()"
      ],
      "metadata": {
        "id": "MdTG-SJtBsZI"
      },
      "execution_count": null,
      "outputs": []
    },
    {
      "cell_type": "markdown",
      "source": [
        "How about the waveforms? Using the cell below, plot the waveforms of the current, resistor voltage, and inductor voltage."
      ],
      "metadata": {
        "id": "my_bk8A19nYi"
      }
    },
    {
      "cell_type": "code",
      "source": [
        "composite_plot, (VoltageL, VoltageR, Current) = plt.subplots(3)\n",
        "\n",
        "# Resistor Voltage waveform\n",
        "VoltageR.plot( ,  ,  color='crimson')\n",
        "VoltageR.set_title(\"Resistor Voltage waveform vs Time\")\n",
        "VoltageR.set_ylabel(\"Voltage (V)\")\n",
        "VoltageR.set_xlabel(\"Time (s)\")\n",
        "\n",
        "# Inductor Voltage waveform\n",
        "VoltageL.plot( ,  , color='orchid')\n",
        "VoltageL.set_title(\"Inductor Voltage waveform vs Time\")\n",
        "VoltageL.set_ylabel(\"Voltage (V)\")\n",
        "VoltageL.set_xlabel(\"Time (s)\")\n",
        "\n",
        "# Current waveform\n",
        "Current.plot( , ,  color='limegreen')\n",
        "Current.set_title(\"Current waveform vs Time\")\n",
        "Current.set_ylabel(\"Current (A)\")\n",
        "Current.set_xlabel(\"Time (s)\")\n",
        "\n",
        "composite_plot.subplots_adjust(hspace=0.9)"
      ],
      "metadata": {
        "id": "ZEAHB9G_9siW"
      },
      "execution_count": null,
      "outputs": []
    },
    {
      "cell_type": "markdown",
      "source": [
        "And finally, plot the resultant phasor, and its corresponding waveform."
      ],
      "metadata": {
        "id": "N3mjOl1xAAWh"
      }
    },
    {
      "cell_type": "code",
      "source": [
        "# You're on your own for this one! Good luck!\n",
        "\n",
        "# Resultant phasor (Plot the inductor and resistor voltage for visual understanding as well!)\n",
        "\n",
        "\n",
        "\n",
        "\n",
        "# Resultant Waveform (Plot the inductor and resistor waveforms as well)\n",
        "\n",
        "\n",
        "\n",
        "\n"
      ],
      "metadata": {
        "id": "8jp5N8K5AIxo"
      },
      "execution_count": null,
      "outputs": []
    }
  ]
}