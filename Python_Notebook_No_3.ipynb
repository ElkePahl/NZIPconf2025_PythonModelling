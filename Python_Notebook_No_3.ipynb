{
  "nbformat": 4,
  "nbformat_minor": 0,
  "metadata": {
    "colab": {
      "provenance": []
    },
    "kernelspec": {
      "name": "python3",
      "display_name": "Python 3"
    },
    "language_info": {
      "name": "python"
    }
  },
  "cells": [
    {
      "cell_type": "markdown",
      "source": [
        "# Notebook 3: Exploring Resonance\n",
        "\n",
        "This notebook is intended for use within Google Colab."
      ],
      "metadata": {
        "id": "44CN5MIns7zk"
      }
    },
    {
      "cell_type": "markdown",
      "source": [
        "Using the skills from the previous notebook, this notebook will explore the concept of resonance in a circuit using phasors and their corresponding waveforms.\n",
        "\n",
        "Resonance occurs when the inductor reactance and the capacitor reactances are equal. This is because the phase that is offset by these two components will effectively cancel out! This will also be a great way to check if your code works. If everything is plotted correctly, your resistor's voltage, circuit current, and your supply voltage should be **in phase**."
      ],
      "metadata": {
        "id": "IGZKyxSitJXf"
      }
    },
    {
      "cell_type": "code",
      "source": [
        "import numpy as np\n",
        "import matplotlib.pyplot as plt"
      ],
      "metadata": {
        "id": "8g9LB5AdtL2k"
      },
      "execution_count": null,
      "outputs": []
    },
    {
      "cell_type": "markdown",
      "source": [
        "# Concept 1: Representing a circuit at resonance with phasors"
      ],
      "metadata": {
        "id": "FEAnMB32wn54"
      }
    },
    {
      "cell_type": "markdown",
      "source": [
        "Let's see an example of an RLC to start with:\n",
        "\n",
        "A RLC circuit consists of a 1.5$\\Omega$ resistor, 0.1H inductor, and 0.5F capacitor. The current of the circuit is 2A. We will assume the frequency is 1Hz. It may be overwhelming to do all of this in one big step, so lets break it down! First, lets begin with our known values. We will use 45$^{\\circ}$ as the default angle for the resistor and current just because it's easier to see."
      ],
      "metadata": {
        "id": "M3hzYVTA0yvw"
      }
    },
    {
      "cell_type": "code",
      "source": [
        "# Known values\n",
        "R = 1.5\n",
        "L = 0.1\n",
        "C = 0.5\n",
        "I = 2\n",
        "f = 1\n",
        "\n",
        "# Angles\n",
        "Rtheta = 45\n",
        "Ltheta = Rtheta + 90 # Leading!\n",
        "Ctheta = Rtheta - 90 # Lagging!\n",
        "\n",
        "# Changing them to radians\n",
        "rad_r = np.radians(Rtheta)\n",
        "rad_l = np.radians(Ltheta)\n",
        "rad_c = np.radians(Ctheta)\n",
        "rad_I = np.radians(Rtheta)\n",
        "\n",
        "# Reactances\n",
        "Xl = 2*np.pi*f*L\n",
        "Xc = 1/(2*np.pi*f*C)\n",
        "\n",
        "# Voltages. These will be our magnitudes\n",
        "Vr = I*R\n",
        "Vl = I*Xl\n",
        "Vc = I*Xc\n"
      ],
      "metadata": {
        "id": "AqT_S_nKZql3"
      },
      "execution_count": null,
      "outputs": []
    },
    {
      "cell_type": "markdown",
      "source": [
        "All the values that we can easily calculate are now all listed. Now, lets consider the parameters that the phasors will need.\n",
        "\n",
        "We know that they all need to begin at (0,0), and will all need their respective x and y velocities. This means we will need their magnitudes in the sine and cosine directions. Then, we can use the **ax.quiver** function to plot the phasors!"
      ],
      "metadata": {
        "id": "efp2nBHgU8Z7"
      }
    },
    {
      "cell_type": "code",
      "source": [
        "# Phasor parameters\n",
        "xr = Vr * np.cos(rad_r)\n",
        "yr = Vr * np.sin(rad_r)\n",
        "\n",
        "xl = Vl * np.cos(rad_l)\n",
        "yl = Vl * np.sin(rad_l)\n",
        "\n",
        "xc = Vc * np.cos(rad_c)\n",
        "yc = Vc * np.sin(rad_c)\n",
        "\n",
        "xi = I * np.cos(rad_I)\n",
        "yi = I * np.sin(rad_I)\n",
        "\n",
        "fig, ax = plt.subplots()\n",
        "\n",
        "# Phasors\n",
        "\n",
        "Qr = ax.quiver(0, 0, xr, yr, angles='xy', scale_units='xy', scale=1, color='crimson', linewidth=4)\n",
        "Ql = ax.quiver(0, 0, xl, yl, angles='xy', scale_units='xy', scale=1, color='orchid', linewidth=4)\n",
        "Qc = ax.quiver(0, 0, xc, yc, angles='xy', scale_units='xy', scale=1, color='turquoise', linewidth=4)\n",
        "QI = ax.quiver(0, 0, xi, yi, angles='xy', scale_units='xy', scale=1, color='limegreen', linewidth=4)\n",
        "\n",
        "# Circles\n",
        "\n",
        "circle_r = plt.Circle((0, 0), Vr, color='crimson', fill=False, linestyle='--') # Resistor voltage\n",
        "ax.add_artist(circle_r)\n",
        "circle_l = plt.Circle((0, 0), Vl, color='orchid', fill=False, linestyle='--') # Inductor voltage\n",
        "ax.add_artist(circle_l)\n",
        "circle_c = plt.Circle((0, 0), Vc, color='turquoise', fill=False, linestyle='--') # Capacitor voltage\n",
        "ax.add_artist(circle_c)\n",
        "circle_i = plt.Circle((0, 0), I, color='limegreen', fill=False, linestyle='--') # Supply voltage\n",
        "ax.add_artist(circle_i)\n",
        "\n",
        "ax.set_aspect('equal')\n",
        "ax.set_xlim(-3.1, 3.1)\n",
        "ax.set_ylim(-3.1, 3.1)\n",
        "ax.set_xlabel('X')\n",
        "ax.set_ylabel('Y')\n",
        "ax.set_title('Phasor Representation of the Currents and Voltage')\n",
        "\n",
        "plt.grid(True)\n",
        "plt.axhline(0, color='black',linewidth=0.3)\n",
        "plt.axvline(0, color='black',linewidth=0.3)\n",
        "plt.quiverkey(Qr, 0, 2.3, 0.5, 'Resistor Voltage', coordinates='data', labelcolor ='crimson')\n",
        "plt.quiverkey(Ql, 0, -1.8, 0.5, 'Inductor Voltage', coordinates='data', labelcolor ='orchid')\n",
        "plt.quiverkey(Qc, 0, -1, 0.5, 'Capacitor Voltage', coordinates='data', labelcolor ='turquoise')\n",
        "plt.quiverkey(QI, 0, 1.3, 0.5, 'Current', coordinates='data', labelcolor ='limegreen')\n",
        "plt.show()"
      ],
      "metadata": {
        "id": "c9pJUoGBVUk2"
      },
      "execution_count": null,
      "outputs": []
    },
    {
      "cell_type": "markdown",
      "source": [
        "By looking at the phasors, we can already tell that there is going to be some sort of lagging of either the current or the voltage, just from the sizes of the phasors alone. There is however, a way to change the phase that the phasors is lagged/lead. To do this, we can change the frequency of the supply.\n",
        "\n",
        "---\n",
        "\n",
        "**Task 1**\n",
        "\n",
        "Change the frequency to 2Hz, and 0.5Hz. Comment on the magnitudes of the respective phasors and what that implies for the resultant phasor."
      ],
      "metadata": {
        "id": "yst9rgOr5Rho"
      }
    },
    {
      "cell_type": "markdown",
      "source": [
        "Put your comments here!"
      ],
      "metadata": {
        "id": "ywcNXm6Nv6Ef"
      }
    },
    {
      "cell_type": "markdown",
      "source": [
        "Now let's actually plot the resultant phasor and see what happens. We'll use the same example from above."
      ],
      "metadata": {
        "id": "RFK5MwAtv-_U"
      }
    },
    {
      "cell_type": "code",
      "source": [
        "fig, ax = plt.subplots()\n",
        "\n",
        "# Phasors\n",
        "\n",
        "Qr = ax.quiver(0, 0, xr, yr, angles='xy', scale_units='xy', scale=1, color='crimson', linewidth=4) # Resistor\n",
        "Ql = ax.quiver(0, 0, xl, yl, angles='xy', scale_units='xy', scale=1, color='orchid', linewidth=4) # Inductor\n",
        "Qc = ax.quiver(0, 0, xc, yc, angles='xy', scale_units='xy', scale=1, color='turquoise', linewidth=4) # Capacitor\n",
        "QI = ax.quiver(0, 0, xi, yi, angles='xy', scale_units='xy', scale=1, color='limegreen', linewidth=4) # Current\n",
        "QR = ax.quiver(0, 0, xr+xl+xc, yr+yl+yc , angles='xy', scale_units='xy', scale=1, color='steelblue', linewidth=4) # Resultant\n",
        "\n",
        "# Resultant magnitude from a^2 + b^2 = c^2\n",
        "\n",
        "magR = np.sqrt(Vr**2+(Vl-Vc)**2)\n",
        "\n",
        "# Circles\n",
        "\n",
        "circle_r = plt.Circle((0, 0), Vr, color='crimson', fill=False, linestyle='--') # Resistor voltage\n",
        "ax.add_artist(circle_r)\n",
        "circle_l = plt.Circle((0, 0), Vl, color='orchid', fill=False, linestyle='--') # Inductor voltage\n",
        "ax.add_artist(circle_l)\n",
        "circle_c = plt.Circle((0, 0), Vc, color='turquoise', fill=False, linestyle='--') # Capacitor voltage\n",
        "ax.add_artist(circle_c)\n",
        "circle_i = plt.Circle((0, 0), I, color='limegreen', fill=False, linestyle='--') # Supply voltage\n",
        "ax.add_artist(circle_i)\n",
        "circle_R = plt.Circle((0, 0), magR, color='steelblue', fill=False, linestyle='--') # Resultant voltage\n",
        "ax.add_artist(circle_R)\n",
        "\n",
        "ax.set_aspect('equal')\n",
        "ax.set_xlim(-3.5, 3.5)\n",
        "ax.set_ylim(-3.5, 3.5)\n",
        "ax.set_xlabel('X')\n",
        "ax.set_ylabel('Y')\n",
        "ax.set_title('Phasor Representation of the Currents and Voltage')\n",
        "\n",
        "plt.grid(True)\n",
        "plt.axhline(0, color='black',linewidth=0.3)\n",
        "plt.axvline(0, color='black',linewidth=0.3)\n",
        "plt.quiverkey(Qr, 0, 2.1, 0.5, 'Resistor Voltage', coordinates='data', labelcolor ='crimson')\n",
        "plt.quiverkey(Ql, 0, -1.8, 0.5, 'Inductor Voltage', coordinates='data', labelcolor ='orchid')\n",
        "plt.quiverkey(Qc, 0, -1, 0.5, 'Capacitor Voltage', coordinates='data', labelcolor ='turquoise')\n",
        "plt.quiverkey(QI, 0, 1.3, 0.5, 'Current', coordinates='data', labelcolor ='limegreen')\n",
        "plt.quiverkey(QR, 0, 2.9, 0.5, 'Resultant Voltage', coordinates='data', labelcolor ='steelblue')\n",
        "plt.show()"
      ],
      "metadata": {
        "id": "FkJd1bMqwXhp"
      },
      "execution_count": null,
      "outputs": []
    },
    {
      "cell_type": "markdown",
      "source": [
        "Now that we can see the resultant voltage, let's actually see the physical phase change itself! The waves will also be shown so you can clearly see how the phase changes affect the circuit. Pay close attention to the x-axis- note that the time axis is scaled differently for each graph! This is intended to make the outputs look similar, allowing you to compare the relative amplitudes. Each graph is labeled with its corresponding frequency.\n",
        "\n",
        "Also note that the current is plotted as well. You can ignore the units, as this is just to observe the phase relationship with the resistor. You can also observe how the current's period changes with each frequency!"
      ],
      "metadata": {
        "id": "ykjv3OY6yXFo"
      }
    },
    {
      "cell_type": "code",
      "source": [
        "f_array = np.array([0.3, 0.5, 1, 1.5, 2])\n",
        "t = np.linspace(0, 10, 1000, endpoint=False) # Time array!\n",
        "\n",
        "for f in f_array:# We want to use a loop to see the affects for every single value in the array\n",
        "  # Reactances\n",
        "  Xl = 2*np.pi*f*L\n",
        "  Xc = 1/(2*np.pi*f*C)\n",
        "\n",
        "  # Voltages\n",
        "  Vl = I*Xl\n",
        "  Vc = I*Xc\n",
        "\n",
        "  # X and Y\n",
        "  xr = Vr * np.cos(rad_r)\n",
        "  yr = Vr * np.sin(rad_r)\n",
        "\n",
        "  xl = Vl * np.cos(rad_l)\n",
        "  yl = Vl * np.sin(rad_l)\n",
        "\n",
        "  xc = Vc * np.cos(rad_c)\n",
        "  yc = Vc * np.sin(rad_c)\n",
        "\n",
        "  xi = I * np.cos(rad_I)\n",
        "  yi = I * np.sin(rad_I)\n",
        "\n",
        "  fig, axs = plt.subplots(1, 2, figsize=(10, 5))\n",
        "\n",
        "  # Phasors\n",
        "\n",
        "  Qr = axs[0].quiver(0, 0, xr, yr, angles='xy', scale_units='xy', scale=1, color='crimson', linewidth=4) # Resistor\n",
        "  Ql = axs[0].quiver(0, 0, xl, yl, angles='xy', scale_units='xy', scale=1, color='orchid', linewidth=4) # Inductor\n",
        "  Qc = axs[0].quiver(0, 0, xc, yc, angles='xy', scale_units='xy', scale=1, color='turquoise', linewidth=4) # Capacitor\n",
        "  QI = axs[0].quiver(0, 0, xi, yi, angles='xy', scale_units='xy', scale=1, color='limegreen', linewidth=4) # Current\n",
        "  QR = axs[0].quiver(0, 0, xr+xl+xc, yr+yl+yc , angles='xy', scale_units='xy', scale=1, color='steelblue', linewidth=4) # Resultant\n",
        "\n",
        "  # Resultant magnitude from a^2 + b^2 = c^2\n",
        "\n",
        "  magR = np.sqrt(Vr**2+(Vl-Vc)**2)\n",
        "  radR = np.arctan2(Xl-Xc, R) + rad_r # Adding the resistor phase since it's technically a right triangle offset by that phase!\n",
        "\n",
        "  # Circles\n",
        "\n",
        "  circle_r = plt.Circle((0, 0), Vr, color='crimson', fill=False, linestyle='--') # Resistor voltage\n",
        "  axs[0].add_artist(circle_r)\n",
        "  circle_l = plt.Circle((0, 0), Vl, color='orchid', fill=False, linestyle='--') # Inductor voltage\n",
        "  axs[0].add_artist(circle_l)\n",
        "  circle_c = plt.Circle((0, 0), Vc, color='turquoise', fill=False, linestyle='--') # Capacitor voltage\n",
        "  axs[0].add_artist(circle_c)\n",
        "  circle_i = plt.Circle((0, 0), I, color='limegreen', fill=False, linestyle='--') # Supply voltage\n",
        "  axs[0].add_artist(circle_i)\n",
        "  circle_R = plt.Circle((0, 0), magR, color='steelblue', fill=False, linestyle='--') # Resultant voltage\n",
        "  axs[0].add_artist(circle_R)\n",
        "\n",
        "  axs[0].set_aspect('equal')\n",
        "  axs[0].set_xlim(-4, 4)\n",
        "  axs[0].set_ylim(-4, 4)\n",
        "  axs[0].set_xlabel('X')\n",
        "  axs[0].set_ylabel('Y')\n",
        "  axs[0].set_title(f'Phasor Representation of the Currents and Voltage at {f}Hz')\n",
        "\n",
        "  # Waves\n",
        "  current = I * np.sin(2*np.pi*f*t + rad_r)\n",
        "  voltager = Vr * np.sin(2*np.pi*f*t + rad_r)\n",
        "  voltagel = Vl * np.sin(2*np.pi*f*t + rad_l)\n",
        "  voltagec = Vc * np.sin(2*np.pi*f*t + rad_c)\n",
        "  voltageR = magR * np.sin(2*np.pi*f*t + radR)\n",
        "\n",
        "  axs[1].plot(t, current, color='limegreen')\n",
        "  axs[1].set_title(\"Current waveform vs Time\")\n",
        "  axs[1].set_ylabel(\"Current (A)\")\n",
        "  axs[1].set_xlabel(\"Time (s)\")\n",
        "\n",
        "  axs[1].plot(t, voltager, color='crimson')\n",
        "  axs[1].set_title(\"Resistor Voltage waveform vs Time\")\n",
        "  axs[1].set_ylabel(\"Voltage (V)\")\n",
        "  axs[1].set_xlabel(\"Time (s)\")\n",
        "\n",
        "  axs[1].plot(t, voltagel, color='orchid')\n",
        "  axs[1].set_title(\"Inductor Voltage waveform vs Time\")\n",
        "  axs[1].set_ylabel(\"Voltage (V)\")\n",
        "  axs[1].set_xlabel(\"Time (s)\")\n",
        "\n",
        "  axs[1].plot(t, voltagec, color='turquoise')\n",
        "  axs[1].set_title(\"Capacitor Voltage waveform vs Time\")\n",
        "  axs[1].set_ylabel(\"Voltage (V)\")\n",
        "  axs[1].set_xlabel(\"Time (s)\")\n",
        "\n",
        "  axs[1].plot(t, voltageR, color='steelblue')\n",
        "  axs[1].set_title(\"Resultant Voltage waveform vs Time\")\n",
        "  axs[1].set_ylabel(\"Voltage (V)\")\n",
        "  axs[1].set_xlabel(\"Time (s)\")\n",
        "  axs[1].set_xlim(0, 2/f) # Divided by f so that we can see the full waves for every single plot! Otherwise it would be disproportionate if we gave a fixed value.\n",
        "  axs[1].set_ylim(-4, 4)\n",
        "  axs[1].set_xlabel('Time (s)')\n",
        "  axs[1].set_ylabel('Volts (V)')\n",
        "  axs[1].set_title(f'Wave Representation of the Currents and Voltage at {f} Hz')\n",
        "\n",
        "\n",
        "  plt.grid(True)\n",
        "  plt.axhline(0, color='black',linewidth=0.3)\n",
        "  plt.axvline(0, color='black',linewidth=0.3)\n",
        "  plt.quiverkey(Qr, 0, 2.1, 0.5, 'Resistor Voltage', coordinates='data', labelcolor ='crimson')\n",
        "  plt.quiverkey(Ql, 0, -1.8, 0.5, 'Inductor Voltage', coordinates='data', labelcolor ='orchid')\n",
        "  plt.quiverkey(Qc, 0, -1, 0.5, 'Capacitor Voltage', coordinates='data', labelcolor ='turquoise')\n",
        "  plt.quiverkey(QI, 0, 1.3, 0.5, 'Current', coordinates='data', labelcolor ='limegreen')\n",
        "  plt.quiverkey(QR, 0, 2.9, 0.5, 'Resultant Voltage', coordinates='data', labelcolor ='steelblue')\n",
        "  plt.subplots_adjust(wspace=0.5)\n",
        "\n",
        "plt.show() # At the end so it shows EVERY single plot"
      ],
      "metadata": {
        "id": "Igwsj6DnyqKB"
      },
      "execution_count": null,
      "outputs": []
    },
    {
      "cell_type": "markdown",
      "source": [
        "All of the code within the loop **must** be there as we need to update the values in every iteration! This is why the inductor and capacitor reactances and voltages are in the <font color='hotpink'>for</font> loop, whereas the resistor voltage is not. The resultant phasor, of course, will also be in the <font color='hotpink'>for</font> loop because it's affected by the inductor's and capacitor's reactance values.\n",
        "\n",
        "Now we want to find the value of $f$ that gives us our **resonant frequency**.\n",
        "\n",
        "Just by looking at the examples above, we can see that the waves and the phasors are going to be in phase $ 0.5Hz < f < 1Hz$. To get an exact value, we can calculate it by rearranging the respective reactance formulas.\n",
        "\n",
        "---\n",
        "**Task 2**\n",
        "\n",
        "Rearrange the reactance formulas to get an answer for $f$ where the voltage over the supply will be *in phase*. Show your working below or rearrange the formula on a piece of paper! Some parts have been started for you in LaTeX."
      ],
      "metadata": {
        "id": "yoShjGhf0-Eq"
      }
    },
    {
      "cell_type": "markdown",
      "source": [
        "$$2*\\pi = \\frac{1}{2*\\pi}$$\n",
        "$$4*\\pi^2 = 1 $$\n",
        "$$f = $$"
      ],
      "metadata": {
        "id": "5a_ar8NiS7mH"
      }
    },
    {
      "cell_type": "markdown",
      "source": [
        "After finishing the above equation, insert it into the code cell below and check to see if reasonable."
      ],
      "metadata": {
        "id": "pjYoenLcS75a"
      }
    },
    {
      "cell_type": "code",
      "source": [
        "f = # Insert formula here!\n",
        "Xl = 2*np.pi*f*L\n",
        "Xc = 1/(2*np.pi*f*C)\n",
        "\n",
        "# Voltages\n",
        "Vl = I*Xl\n",
        "Vc = I*Xc\n",
        "\n",
        "# X and Y\n",
        "xr = Vr * np.cos(rad_r)\n",
        "yr = Vr * np.sin(rad_r)\n",
        "\n",
        "xl = Vl * np.cos(rad_l)\n",
        "yl = Vl * np.sin(rad_l)\n",
        "\n",
        "xc = Vc * np.cos(rad_c)\n",
        "yc = Vc * np.sin(rad_c)\n",
        "\n",
        "xi = I * np.cos(rad_I)\n",
        "yi = I * np.sin(rad_I)\n",
        "\n",
        "fig, ax = plt.subplots()\n",
        "\n",
        "# Phasors\n",
        "\n",
        "Qr = ax.quiver(0, 0, xr, yr, angles='xy', scale_units='xy', scale=1, color='crimson', linewidth=4) # Resistor\n",
        "Ql = ax.quiver(0, 0, xl, yl, angles='xy', scale_units='xy', scale=1, color='orchid', linewidth=4) # Inductor\n",
        "Qc = ax.quiver(0, 0, xc, yc, angles='xy', scale_units='xy', scale=1, color='turquoise', linewidth=4) # Capacitor\n",
        "QI = ax.quiver(0, 0, xi, yi, angles='xy', scale_units='xy', scale=1, color='limegreen', linewidth=4) # Current\n",
        "QR = ax.quiver(0, 0, xr+xl+xc, yr+yl+yc , angles='xy', scale_units='xy', scale=1, color='steelblue', linewidth=4) # Resultant\n",
        "\n",
        "# Resultant magnitude from a^2 + b^2 = c^2\n",
        "\n",
        "magR = np.sqrt(Vr**2+(Vl-Vc)**2)\n",
        "\n",
        "# Circles\n",
        "\n",
        "circle_r = plt.Circle((0, 0), Vr, color='crimson', fill=False, linestyle='--') # Resistor voltage\n",
        "ax.add_artist(circle_r)\n",
        "circle_l = plt.Circle((0, 0), Vl, color='orchid', fill=False, linestyle='--') # Inductor voltage\n",
        "ax.add_artist(circle_l)\n",
        "circle_c = plt.Circle((0, 0), Vc, color='turquoise', fill=False, linestyle='--') # Capacitor voltage\n",
        "ax.add_artist(circle_c)\n",
        "circle_i = plt.Circle((0, 0), I, color='limegreen', fill=False, linestyle='--') # Supply voltage\n",
        "ax.add_artist(circle_i)\n",
        "circle_R = plt.Circle((0, 0), magR, color='steelblue', fill=False, linestyle='--') # Resultant voltage\n",
        "ax.add_artist(circle_R)\n",
        "\n",
        "ax.set_aspect('equal')\n",
        "ax.set_xlim(-3.5, 3.5)\n",
        "ax.set_ylim(-3.5, 3.5)\n",
        "ax.set_xlabel('X')\n",
        "ax.set_ylabel('Y')\n",
        "ax.set_title('Phasor Representation of the Currents and Voltage')\n",
        "\n",
        "plt.grid(True)\n",
        "plt.axhline(0, color='black',linewidth=0.3)\n",
        "plt.axvline(0, color='black',linewidth=0.3)\n",
        "plt.quiverkey(Qr, 0, 2.1, 0.5, 'Resistor Voltage', coordinates='data', labelcolor ='crimson')\n",
        "plt.quiverkey(Ql, 0, -1.8, 0.5, 'Inductor Voltage', coordinates='data', labelcolor ='orchid')\n",
        "plt.quiverkey(Qc, 0, -1, 0.5, 'Capacitor Voltage', coordinates='data', labelcolor ='turquoise')\n",
        "plt.quiverkey(QI, 0, 1.3, 0.5, 'Current', coordinates='data', labelcolor ='limegreen')\n",
        "plt.quiverkey(QR, 0, 2.9, 0.5, 'Resultant Voltage', coordinates='data', labelcolor ='steelblue')\n",
        "plt.show()"
      ],
      "metadata": {
        "id": "dMlhvg2iTzTo"
      },
      "execution_count": null,
      "outputs": []
    },
    {
      "cell_type": "markdown",
      "source": [
        "Now, it's your turn! Using the above example as a guideline, finish the task below.\n",
        "\n",
        "---\n",
        "**Task 3**\n",
        "\n",
        "A RLC circuit with a current of 1A has a resistor, inductor, and capacitor in series. The resistor has a resistance of 3$\\Omega$, the inductor has an inductance of 0.5H, and the capacitor has a capacitance of 0.2F. Assume that the frequency is 3Hz.\n",
        "\n",
        "a) Calculate the reactances of the inductor and capacitor.\n",
        "\n",
        "b) Using code from above, plot the phasors of the voltages over the resistor, capacitor, and the inductor. Then plot the current phasor.\n",
        "\n",
        "c) Plot the resultant phasor on the same circle using pythagoras and trigonometric rules.\n",
        "\n",
        "d) Plot the respective waveforms associated with each phasor using subplots like in notebook 2.\n",
        "\n",
        "e) Find the resonant frequency and plot the resultant phasor again. Then, replot the resultant waveform and waveform of the resistor phasor. Justify whether or not your resultant phasor and waveform is correct."
      ],
      "metadata": {
        "id": "z4V1xMCL6X7X"
      }
    },
    {
      "cell_type": "code",
      "source": [
        "# a\n",
        "I = # fill these in!\n",
        "R =\n",
        "L =\n",
        "C =\n",
        "f =\n",
        "\n",
        "# degrees\n",
        "res_angle = 0\n",
        "inductor_angle =\n",
        "capacitor_angle =\n",
        "\n",
        "# radians\n",
        "\n",
        "rad_res =\n",
        "rad_inductor =\n",
        "rad_capacitor =\n",
        "\n",
        "Xl =\n",
        "Xc =\n"
      ],
      "metadata": {
        "id": "V3Lqhot5wqwO"
      },
      "execution_count": null,
      "outputs": []
    },
    {
      "cell_type": "code",
      "source": [
        "# b (Copy paste it in and adjust the variables!)\n",
        "\n",
        "\n",
        "\n",
        "\n",
        "\n"
      ],
      "metadata": {
        "id": "AeQmnwQVNBRj"
      },
      "execution_count": null,
      "outputs": []
    },
    {
      "cell_type": "code",
      "source": [
        "# c\n",
        "\n",
        "magnitude_resultant =\n",
        "radians_resultant =\n",
        "\n",
        "\n",
        "\n"
      ],
      "metadata": {
        "id": "lYhLOGpbNB3M"
      },
      "execution_count": null,
      "outputs": []
    },
    {
      "cell_type": "code",
      "source": [
        "# d\n",
        "\n",
        "t = np.linspace( , , )\n",
        "\n",
        "# list the different waves here\n",
        "\n",
        "\n",
        "# The composite plots cannot clearly show all 5 plots, so you will need to break it up into a group of 2 and 3! It doesn't matter which one is where, this is just so you can clearly see the waveforms and their labels.\n",
        "composite_plot, ( , ) = plt.subplots()\n",
        "\n",
        "\n",
        "composite_plot.subplots_adjust(hspace=0.9)\n",
        "\n",
        "\n",
        "\n",
        "composite_plot, ( , , ) = plt.subplots()\n",
        "\n",
        "composite_plot.subplots_adjust(hspace=0.9)\n"
      ],
      "metadata": {
        "id": "m19Y3_XCNFII"
      },
      "execution_count": null,
      "outputs": []
    },
    {
      "cell_type": "code",
      "source": [
        "# e\n",
        "\n",
        "f =\n",
        "\n",
        "Xl =\n",
        "Xc =\n",
        "\n",
        "magnitude_resultant =\n",
        "radians_resultant =\n",
        "\n",
        "\n"
      ],
      "metadata": {
        "id": "ol1mrje-NNKV"
      },
      "execution_count": null,
      "outputs": []
    },
    {
      "cell_type": "markdown",
      "source": [
        "# Extension 1: Above and below resonance"
      ],
      "metadata": {
        "id": "ofgD75zrxNYt"
      }
    },
    {
      "cell_type": "markdown",
      "source": [
        "Now that we know what a circuit at resonance is like, let's talk about the other two cases that we get from the lagging and leading impedences.\n",
        "\n",
        "\n",
        "If $\\omega > \\omega_0$ (angular frequency is greater than resonant angular frequency), the phase of the circuit is *positive*. The circuit is performing *above* resonance, and is considered **inductive**.  \n",
        "\n",
        "If $\\omega < \\omega_0$ (angular frequency is less than resonant angular frequency), the phase of the circuit is *negative*. The circuit is performing *below* resonance, and is considered **capacitive**.\n",
        "\n",
        "---\n",
        "**Task 4**\n",
        "\n",
        "A RLC circuit consists of a 4$\\Omega$ resistor, 0.2H inductor, and 100$\\mu$F capacitor. It operates at the mains frequency of 50Hz, and has a current of 2A.\n",
        "\n",
        "a) Using these variables, deduce whether or not the circuit is inductive or capacitive.\n",
        "\n",
        "b) Plot the voltage phasors for the resistor, inductor, capacitor, and supply. Then, plot the corresponding waveforms.\n",
        "\n",
        "c) Find the resonant frequency of this circuit.\n",
        "\n",
        "d) Find the values of $f$ where the circuit's supply voltage is 45$^{\\circ}$ ahead of the current, and 45$^{\\circ}$ lagged behind the current. Hint: Use your knowledge of trig rules or the code from above to figure this out. You may want to rearrange the formulas on a sheet of paper."
      ],
      "metadata": {
        "id": "P1SZQbDyxURQ"
      }
    },
    {
      "cell_type": "code",
      "source": [
        "# a\n",
        "\n",
        "f =\n",
        "Xc =\n",
        "Xl =\n",
        "\n",
        "# Type here!\n"
      ],
      "metadata": {
        "id": "rRB4gLhMLMvC"
      },
      "execution_count": null,
      "outputs": []
    },
    {
      "cell_type": "code",
      "source": [
        "# b\n",
        "\n",
        "\n",
        "fig, ax = plt.subplots()\n",
        "\n"
      ],
      "metadata": {
        "id": "Jksq_SZuLFmC"
      },
      "execution_count": null,
      "outputs": []
    },
    {
      "cell_type": "code",
      "source": [
        "# c\n",
        "\n",
        "f =\n",
        "\n"
      ],
      "metadata": {
        "id": "FV9Enw1OLI-E"
      },
      "execution_count": null,
      "outputs": []
    },
    {
      "cell_type": "code",
      "source": [
        "# d\n",
        "\n",
        "R_phase = 0 # this is in degrees!\n",
        "Inductive_phase = 45\n",
        "Capacitive_phase = -45\n",
        "\n"
      ],
      "metadata": {
        "id": "oUXrhVqOLKKY"
      },
      "execution_count": null,
      "outputs": []
    }
  ]
}