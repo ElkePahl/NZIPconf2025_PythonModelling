{
  "nbformat": 4,
  "nbformat_minor": 0,
  "metadata": {
    "colab": {
      "provenance": []
    },
    "kernelspec": {
      "name": "python3",
      "display_name": "Python 3"
    },
    "language_info": {
      "name": "python"
    }
  },
  "cells": [
    {
      "cell_type": "markdown",
      "source": [
        "# Notebook 1: Introduction to AC Voltage and Phasors Pt. 1\n",
        "\n",
        "This notebook is intended for use within Google Colab."
      ],
      "metadata": {
        "id": "GVUnSL-I3Y0b"
      }
    },
    {
      "cell_type": "markdown",
      "source": [
        "# Introduction\n",
        "\n",
        "This notebook builds upon the skills learned in the introductory notebook \"[Notebook 1: How to use Python Notebooks](https://github.com/ElkePahl/NZIP2024_Python_Modelling_Physics)\". It is also helpful to do the extension activity, as the code will build upon <font color='hotpink'>for</font> loops.\n",
        "\n",
        "Phasors are often used to mathematically represent what the value of a wave is at different points in time. Because of this, they are often used to represent the waveforms of AC circuits. This notebook will guide you through how to use python to plot waves and the unit circle the phasor rotates around.\n",
        "\n",
        "The extension activities below are **optional**. They are there to build on the skills learned in this notebook.\n"
      ],
      "metadata": {
        "id": "arzU0J-z3sDy"
      }
    },
    {
      "cell_type": "markdown",
      "source": [
        "# Concept 1: Using a <font color='hotpink'>for</font> loop\n"
      ],
      "metadata": {
        "id": "wNdhGWp6Ejx0"
      }
    },
    {
      "cell_type": "markdown",
      "source": [
        "First off, we need to import the packages used."
      ],
      "metadata": {
        "id": "YI3uulzuJmPe"
      }
    },
    {
      "cell_type": "code",
      "source": [
        "import numpy as np\n",
        "import matplotlib.pyplot as plt"
      ],
      "metadata": {
        "id": "abWTKo-rG1aJ"
      },
      "execution_count": null,
      "outputs": []
    },
    {
      "cell_type": "markdown",
      "source": [
        "A useful statement in python is a <font color='hotpink'>for</font> loop. A <font color='hotpink'>for</font> loop executes code for a certain amount of repetitions. It works if there is a predetermined value of repetitions, like the size of an array. <font color='hotpink'>for</font> loops are used in this sequence:\n",
        "\n",
        "```\n",
        "for x in array:\n",
        "  do_an_action\n",
        "```\n",
        "\n",
        "Here's an example of a simple use of a <font color='hotpink'>for</font> loop:"
      ],
      "metadata": {
        "id": "vBooqjU6EqKQ"
      }
    },
    {
      "cell_type": "code",
      "source": [
        "array = np.array([1,2,3,4,5])\n",
        "\n",
        "for x in array:\n",
        "  print(x)"
      ],
      "metadata": {
        "id": "NKWxalATruf7"
      },
      "execution_count": null,
      "outputs": []
    },
    {
      "cell_type": "markdown",
      "source": [
        "We can see that each number, which is targeted by the x, is printed before the loop repeats itself and moves onto the next element."
      ],
      "metadata": {
        "id": "p8CWhgpqr7Qz"
      }
    },
    {
      "cell_type": "markdown",
      "source": [
        "In this notebook, we will be seeing <font color='hotpink'>for</font> loops in this form:\n",
        "\n",
        "\n",
        "```\n",
        "for x in range(len(array)):\n",
        "  if array[x] meets_condition\n",
        "  array[x] is_modified\n",
        "\n",
        "  else:\n",
        "  statement_for_other_values\n",
        "\n",
        "```\n",
        "This form is typically used when the array needs to be *modified* in a way.\n",
        "\n",
        "Lets see how the <font color='goldenrod'>len</font> and <font color='goldenrod'>range</font> functions work."
      ],
      "metadata": {
        "id": "jgB4OEA4rryD"
      }
    },
    {
      "cell_type": "markdown",
      "source": [
        "The <font color='goldenrod'>len</font> function is used to return the number of elements in an array or list. Here is an example:\n"
      ],
      "metadata": {
        "id": "Ig0IM5jaNv3s"
      }
    },
    {
      "cell_type": "code",
      "source": [
        "array = [5, 10, 15, 20] # Defining an array\n",
        "\n",
        "y = len(array) # Using the len function\n",
        "\n",
        "print(y)"
      ],
      "metadata": {
        "id": "ZipZsYhALG-O"
      },
      "execution_count": null,
      "outputs": []
    },
    {
      "cell_type": "markdown",
      "source": [
        "The  <font color='goldenrod'>range</font> function is used in this form:\n",
        "\n",
        "```\n",
        "range(start_value, end_value, step_size)\n",
        "\n",
        "```\n",
        "The <font color='green'>start_value</font> is the value that the sequence starts at. The value is included in the sequence, and is not necessary to be listed. If no value is stated, python defaults the beginning value to 0.\n",
        "\n",
        "The <font color='red'>end_values</font> is the value that the sequence ends at. The value is excluded from the sequence, and is required to be listed.\n",
        "\n",
        "The <font color='darkblue'>step_size</font> is the difference between each value listed. A value is not necessary to be stated, and it will default to 1.\n",
        "\n",
        "Here is an example:"
      ],
      "metadata": {
        "id": "xRxuMKIgLldk"
      }
    },
    {
      "cell_type": "code",
      "source": [
        "for i in range(2, 6):\n",
        "    print(i)"
      ],
      "metadata": {
        "id": "O4JApZaaNmez"
      },
      "execution_count": null,
      "outputs": []
    },
    {
      "cell_type": "markdown",
      "source": [
        "As you can see, it lists the start value, and excludes the end value. What happens if only the end value is listed?"
      ],
      "metadata": {
        "id": "-NnfbhCyQeqw"
      }
    },
    {
      "cell_type": "code",
      "source": [
        "for i in range(4):\n",
        "    print(i)"
      ],
      "metadata": {
        "id": "fnowW9zRQxW6"
      },
      "execution_count": null,
      "outputs": []
    },
    {
      "cell_type": "markdown",
      "source": [
        "As we can see, because we did not list a starting value, python defaults the first element in the sequence to be 0.\n",
        "\n",
        "From these two examples, we can now see how the two functions work together. The <font color='goldenrod'>len</font> function returns the amount of elements in the array. This value is then taken as the *end value* of the <font color='goldenrod'>range</font> function. The range function assigns an index value to each of the elements in an array. This is what allows the <font color='hotpink'>for</font> loop to be modified."
      ],
      "metadata": {
        "id": "7laRO6XfQ1OM"
      }
    },
    {
      "cell_type": "code",
      "source": [
        "array = [5, 10, 15, 20]\n",
        "\n",
        "# Loop through indices using range(len(array))\n",
        "for x in range(len(array)):\n",
        "    print(f\"Index {x}: {array[x]}\") # Curly brackets mean the element's number, and the square brackets target the element value! The quotations make it into text."
      ],
      "metadata": {
        "id": "IvQVwGk_LwxJ"
      },
      "execution_count": null,
      "outputs": []
    },
    {
      "cell_type": "markdown",
      "source": [
        "Having the array[x] means that each element (which is represented by the x) is checked for the defined condition within the array. An example of how these are all used together is shown below.\n"
      ],
      "metadata": {
        "id": "3rD6CJIaLGEo"
      }
    },
    {
      "cell_type": "code",
      "source": [
        "array = np.array([1,2,3,4,5])\n",
        "\n",
        "for x in range(len(array)):\n",
        "  if array[x] < 3: # This checks each element to see if it meets the condition of x < 3\n",
        "    array[x] = array[x] * -1 # This updates the element in the array if the condition is met, which multiplies the values by -1\n",
        "\n",
        "  else:\n",
        "    pass # This states that if x is not less than 3, the element will be left alone\n",
        "\n",
        "print(array)"
      ],
      "metadata": {
        "id": "XOlEs4KhGxqr"
      },
      "execution_count": null,
      "outputs": []
    },
    {
      "cell_type": "markdown",
      "source": [
        "---\n",
        "**Task 1**\n",
        "\n",
        "A group of ten people are at a restaurant and are ordering food. They have respective ages of 3, 12, 25, 30, 33, 24, 10, 9, 29, and 27. Everyone under the age of 12 gets a kid menu. Everyone else receives the regular menu\n",
        "\n",
        "Using a <font color='hotpink'>for</font> loop, list off the ages of the customers where those who get a kids menu have their ages set to 0, and those who receive a regular menu have their ages unchanged."
      ],
      "metadata": {
        "id": "tX689kKuBFeK"
      }
    },
    {
      "cell_type": "code",
      "source": [
        "people = # create an array\n",
        "\n",
        "for i in #"
      ],
      "metadata": {
        "id": "58c0vX4aCTOx"
      },
      "execution_count": null,
      "outputs": []
    },
    {
      "cell_type": "markdown",
      "source": [
        "# Concept 2: Creating a Wave\n"
      ],
      "metadata": {
        "id": "qXGoCVICCnva"
      }
    },
    {
      "cell_type": "markdown",
      "source": [
        "AC voltages differ from DC voltages in the sense that they do not always flow in the same direction as they will oscillate. This means that the voltage over time can be represented with an oscillatory function!\n",
        "\n",
        "Using the numpy packet, we can plot a graph using the functions:\n",
        "\n",
        "```\n",
        "np.sin(x)\n",
        "np.cos(x)\n",
        "```\n",
        "\n",
        "These are used interchangably, but for this notebook, if you need to use one of these functions, default to the sine function.\n",
        "\n",
        "We can combine this with our wave equation where $A_0$ is amplitude, $t$ is time, and $f$ is frequency. $$ A(t) = A_0sin(2\\pi ft)$$\n",
        "\n",
        "Note that to get the value of $\\pi$, you need to use the command **np.pi**.\n",
        "\n",
        "Now, let's start with some typical values of voltage in New Zealand.\n",
        "\n",
        "---\n",
        "**Task 2**\n",
        "\n",
        "The mains in New Zealand operates at a peak to peak (this means peak to trough difference) voltage of 340V, 50Hz. Use these two values and assign them to variables that match up with the wave equation above. Then, test values of $t = 1, 3, 2\\cdot\\pi,$ and $4\\cdot\\pi$ to see what their voltages are at those points."
      ],
      "metadata": {
        "id": "u-54XQG5Ctzy"
      }
    },
    {
      "cell_type": "code",
      "source": [
        "# Choose the corresponding variables here\n",
        "\n",
        "time_array = np.array([])\n",
        "\n",
        "for t in time_array:\n"
      ],
      "metadata": {
        "id": "V6-JIXZyHIzg"
      },
      "execution_count": null,
      "outputs": []
    },
    {
      "cell_type": "markdown",
      "source": [
        "Next, we need to create a set of values for $t$. We will be using the **np.linspace** function for this.\n",
        "\n",
        "The **linspace** function takes this form:\n",
        "\n",
        "```\n",
        "np.linspace(start_value, stop_value, number_of_samples, endpoint_yes_or_no)\n",
        "```\n",
        "\n",
        "Lets see some examples of this:"
      ],
      "metadata": {
        "id": "YkJo5HESSCWK"
      }
    },
    {
      "cell_type": "code",
      "source": [
        "x = np.linspace(0, 10, 5, endpoint=True) #This means that the stop value is included as a sample\n",
        "\n",
        "print(x)"
      ],
      "metadata": {
        "id": "e5Bv30jqSj4K"
      },
      "execution_count": null,
      "outputs": []
    },
    {
      "cell_type": "code",
      "source": [
        "y = np.linspace(0, 10, 5, endpoint=False) # This does not include the final value\n",
        "\n",
        "print(y)"
      ],
      "metadata": {
        "id": "rnkiy9pCTHfY"
      },
      "execution_count": null,
      "outputs": []
    },
    {
      "cell_type": "markdown",
      "source": [
        "Each of these examples has 5 evenly spaced out points depending on if the stop value is included or not. We will use this concept to generate an array of values for $t$.\n",
        "\n",
        "---\n",
        "\n",
        "**Task 3**\n",
        "\n",
        "Make an array for $t$ using appropriate starting and stopping values. Keep in mind that your frequency is quite high, so a smaller time frame may be more appropriate. Have your graph show two wavelengths, and use 100 as your number of samples. Hint: It may be easier to calculate the period of the wave first!"
      ],
      "metadata": {
        "id": "KCLr46exTW5_"
      }
    },
    {
      "cell_type": "code",
      "source": [
        "t = # Create an array"
      ],
      "metadata": {
        "id": "JZltwI29Tp48"
      },
      "execution_count": null,
      "outputs": []
    },
    {
      "cell_type": "markdown",
      "source": [
        "Now let's actually plot the wave! We can use the aformentioned sinusoidal functions to do this."
      ],
      "metadata": {
        "id": "JYQCZJlC08KK"
      }
    },
    {
      "cell_type": "code",
      "source": [
        "V = # Sine wave function. This creates a corresponding array of voltages!\n",
        "\n",
        "plt.plot(t, V)\n",
        "plt.title(f'Sinusoidal Wave at {f} Hz')\n",
        "plt.xlabel('Time (seconds)')\n",
        "plt.ylabel('Amplitude')\n",
        "plt.grid(True)\n",
        "plt.show()"
      ],
      "metadata": {
        "id": "MxGEQ6SyT-cO"
      },
      "execution_count": null,
      "outputs": []
    },
    {
      "cell_type": "markdown",
      "source": [
        "The wave that is represented should be close to what you expect. Have a play around with the number of samples to see how that affects the quality of the sine wave.\n",
        "\n",
        "---\n",
        "\n",
        "**Task 4**\n",
        "\n",
        "Make changes to this code to represent a 5V (peak to peak) wave that has a frequency of 10Hz and is only showing one wavelength.\n"
      ],
      "metadata": {
        "id": "CeMKcS8E2haT"
      }
    },
    {
      "cell_type": "code",
      "source": [
        "frequency = 20\n",
        "amplitude = 20\n",
        "time = np.linspace(0, np.pi, 100)\n",
        "Volt = amplitude * np.sin(2 * np.pi * frequency * time)\n",
        "\n",
        "plt.plot(time, Volt)\n",
        "plt.title(f'Sinusoidal Wave at {frequency} Hz')\n",
        "plt.xlabel('Time (seconds)')\n",
        "plt.ylabel('Amplitude')\n",
        "plt.grid(True)\n",
        "plt.show()"
      ],
      "metadata": {
        "id": "5YvO0tf3n2Eh"
      },
      "execution_count": null,
      "outputs": []
    },
    {
      "cell_type": "markdown",
      "source": [
        "Now, on the same graph plot a line that represents the **RMS voltage** of this source to show the DC equivalent. You may use this:\n",
        "\n",
        "```\n",
        "plt.axhline(y = y_coord_of_line, color = 'your_colour', linestyle = 'your_linestyle')\n",
        "```\n",
        "\n",
        "```your_colour``` can be 'red', 'blue' ... and ```linestyle``` can be e.g. '-' for a full line, '--' for a dashed line, and ':' for a dotted line. (You can google 'plt.axhline' to find the documentation on the matplotlib webpage for more options.)\n",
        "\n",
        "---\n",
        "\n",
        "**Half-wave and Fullwave Rectifiers**\n",
        "\n",
        "Now that we know how to plot a wave, we can use this to plot the two types of rectifiers that we use with the help of diodes.\n",
        "\n",
        "A half-wave rectifier has one diode in the configuration, meaning the signal can only pass in one direction. A bridge rectifier (or fullwave rectifier) has four diodes, with pairs set up in opposing directions to account for the changing current. This means that current can flow through the bridge rectifier at all times.\n",
        "\n",
        "---\n",
        "**Task 5**\n",
        "\n",
        "Using the parameters specified below, adjust the <font color='hotpink'>for</font> loop to show a half wave rectifier's signal."
      ],
      "metadata": {
        "id": "38SIJpMhpzub"
      }
    },
    {
      "cell_type": "code",
      "source": [
        "f = 10\n",
        "A = 5\n",
        "t = np.linspace(0, 0.5, 1000)\n",
        "hwave = np.sin(2*np.pi*f*t)\n",
        "\n",
        "for i in # insert code here:\n",
        "  if t[i] = 0\n",
        "   hwave[i] = hwave[i]\n",
        "\n",
        "plt.plot(t, hwave)\n",
        "plt.title(f'Sinusoidal Wave at {f} Hz')\n",
        "plt.xlabel('Time (seconds)')\n",
        "plt.ylabel('Amplitude')\n",
        "plt.grid(True)"
      ],
      "metadata": {
        "id": "rYiIsFOsYQjJ"
      },
      "execution_count": null,
      "outputs": []
    },
    {
      "cell_type": "markdown",
      "source": [
        "Now let's do the same thing, but with a bridge rectifier!\n",
        "\n",
        "---\n",
        "**Task 6**\n",
        "\n",
        "Adjust the code below with a <font color='hotpink'>for</font> loop to show the behaviour of a bridge rectifier."
      ],
      "metadata": {
        "id": "jJX9zG0aZP4U"
      }
    },
    {
      "cell_type": "code",
      "source": [
        "f = 10\n",
        "A = 5\n",
        "t = np.linspace(0, 0.5, 1000)\n",
        "fwave = np.sin(2*np.pi*f*t)\n",
        "\n",
        "# Write 'for' loop code here\n",
        "\n",
        "plt.plot(t, fwave)\n",
        "plt.title(f'Sinusoidal Wave at {f} Hz')\n",
        "plt.xlabel('Time (seconds)')\n",
        "plt.ylabel('Amplitude')\n",
        "plt.grid(True)"
      ],
      "metadata": {
        "id": "kA1Cyjf6ZUTV"
      },
      "execution_count": null,
      "outputs": []
    },
    {
      "cell_type": "markdown",
      "source": [
        "Often when it comes to coding, there is more than one solution. In this case, we can consider that a bridge rectifier is taking the *absolute value* of the sinusoidal wave. The command for the absolute value is:\n",
        "\n",
        "```\n",
        "np.abs()\n",
        "```\n",
        "\n",
        "---\n",
        "\n",
        "**Task 7**\n",
        "\n",
        "Adjust the code below to show a different way of representing the bridge rectifier."
      ],
      "metadata": {
        "id": "DEuIpXLgB95k"
      }
    },
    {
      "cell_type": "code",
      "source": [
        "f = 10\n",
        "A = 5\n",
        "t = np.linspace(0, 0.5, 1000)\n",
        "fwave = np.sin(2*np.pi*f*t)\n",
        "\n",
        "plt.plot(t, fwave)\n",
        "plt.title(f'Sinusoidal Wave at {f} Hz')\n",
        "plt.xlabel('Time (seconds)')\n",
        "plt.ylabel('Amplitude')\n",
        "plt.grid(True)"
      ],
      "metadata": {
        "id": "Hjoi2bmhCZzs"
      },
      "execution_count": null,
      "outputs": []
    },
    {
      "cell_type": "markdown",
      "source": [
        "We can also introduce a phase shift in the waves as well! The new wave equation including the phase shift is: $$ A(t) = Acos(2\\pi ft - \\phi)$$\n",
        "\n",
        "Let's use python to code a cosine wave that is shifted by 90$^{\\circ}$.\n",
        "\n",
        "---\n",
        "**Task 8**\n",
        "\n",
        "Plot a <font color='red'>red</font> cosine wave that is shifted by 90$^{\\circ}$ and plot a <font color='blue'>blue</font> sine wave on two different plots. Comment on the results - pay special attention to the phases of the waves. You can change the colour of the waves with this added keyword argument:\n",
        "\n",
        "```\n",
        "plt.plot(x_array, y_array, color='colour_of_your_choice')\n",
        "```\n",
        "Note that color must be spelt without the 'u' to be recognised."
      ],
      "metadata": {
        "id": "ucEPwkdcHTDs"
      }
    },
    {
      "cell_type": "code",
      "source": [
        "f = 10\n",
        "t =  # create an array for values of t\n",
        "sine =\n",
        "angle = 90\n",
        "rad = np.radians(angle)\n",
        "cosine =\n",
        "\n",
        "composite_plot, (graph_1, graph_2) = plt.subplots(2) # making two separate plots\n",
        "graph_1.plot(t, sine, color='steelblue')\n",
        "graph_1.set_title(\"Top to Bottom: Sine/Cosine vs Time\")\n",
        "graph_2.plot(t, cosine, color='crimson')"
      ],
      "metadata": {
        "id": "WzaBsYY7Izcu"
      },
      "execution_count": null,
      "outputs": []
    },
    {
      "cell_type": "markdown",
      "source": [
        "# Concept 3: Plotting a Circle\n",
        "\n"
      ],
      "metadata": {
        "id": "OA0dRYsODbkn"
      }
    },
    {
      "cell_type": "markdown",
      "source": [
        "On a phasor diagram, we use a *unit circle* as a way to demonstrate the path of the tip of a phasor. As the phasor traces around the unit circle, it's distance (on the y-axis) from (0, 0) is directly correlated to the amplitude of the wave at a certain time.\n",
        "\n",
        "Let's see the function to create a circle first.\n",
        "\n",
        "```\n",
        "plt.Circle((x_coordinate, y_coordinate), radius, colour, fill, linestyle)\n",
        "\n",
        "```\n",
        "\n",
        "Everything after the radius is to adjust the visuals rather than functionality (like adjusting the colour, having the circle filled in, and what outline style the circle will be in). The main ones we want to focus on are the coordinates, and the radius of the circle.\n",
        "\n",
        "Keep in mind that this function doesn't exist on it's own- we need to assign it to an axis to be plotted. Because of this, we will introduce the idea of *sub-plots*. This means we can plot more than one thing on the same graph. We will be using this command to incorporate the sub-plots.\n",
        "\n",
        "```\n",
        "fig, ax = plt.subplots()\n",
        "```\n",
        "\n",
        "This command creates both the **figures**, and the **axes** the figures will be on. We then need to add the circle to the axis with either of these commands:\n",
        "\n",
        "```\n",
        "ax.add_artist(item)\n",
        "ax.add_patch(item)\n",
        "```\n",
        "\n",
        "**add_artist** is a general command for adding things to an axis, whereas **add_patch** is used specifically for shapes like circles and rectangles. Both will have the same effect in this case, so they can be used interchangably.\n",
        "\n",
        "Here is an example:"
      ],
      "metadata": {
        "id": "RKuPAr8GDhch"
      }
    },
    {
      "cell_type": "code",
      "source": [
        "fig, ax = plt.subplots()\n",
        "\n",
        "circle = plt.Circle((0, 0), 10, color='steelblue', fill=False, linestyle='--') # Defining a circle at (0, 0) with a radius of 10 with no fill and a dashed line style\n",
        "ax.add_artist(circle) # Adding the circle to the plot\n",
        "\n",
        "ax.set_xlim(-15,15) # Setting x-axis limits\n",
        "ax.set_ylim(-15,15) # Setting y-axis limits\n",
        "ax.set_aspect('equal') # Setting the aspect ratio to be equal\n",
        "plt.grid(True) # Adding a grid to the plot\n",
        "ax.set_xlabel('X')\n",
        "ax.set_ylabel('Y')\n",
        "ax.set_title('A Circle')\n",
        "\n",
        "plt.show()"
      ],
      "metadata": {
        "id": "pGlT3FqiD9qs"
      },
      "execution_count": null,
      "outputs": []
    },
    {
      "cell_type": "markdown",
      "source": [
        "---\n",
        "**Task 9**\n",
        "\n",
        "Plot a <font color='red'>red</font> unit circle on a plot with a grid and equal axes. Make sure to create the sub-plot first!"
      ],
      "metadata": {
        "id": "rUsReOoQRXgI"
      }
    },
    {
      "cell_type": "code",
      "source": [],
      "metadata": {
        "id": "BVwcIfxASp4_"
      },
      "execution_count": null,
      "outputs": []
    },
    {
      "cell_type": "markdown",
      "source": [
        "# Extension 1: Effect of step size"
      ],
      "metadata": {
        "id": "NRNPVlWVN0KT"
      }
    },
    {
      "cell_type": "markdown",
      "source": [
        "Unfortunately, we cannot achieve a fully continuous function. The **linspace** function creates a certain number of points, and if the number of points are large enough, we can get all the intricacies represented by a function. But what happens when we have a low sampling rate (aka not enough points to depict a function?\n",
        "\n",
        "The two code cells below show the differences between a high sampling rate, and a low sampling rate."
      ],
      "metadata": {
        "id": "hnPYo3TpKutH"
      }
    },
    {
      "cell_type": "code",
      "source": [
        "f = 10 # 10 Hz\n",
        "t_low = np.linspace(0, 1, 20, endpoint=False)  # 20 samples per second\n",
        "y_low = np.sin(2*np.pi*f*t_low)\n",
        "plt.plot(t_low, y_low)\n",
        "plt.title(\"Low Sampling Rate (20 Hz)\")\n",
        "plt.show()"
      ],
      "metadata": {
        "id": "6PVOvY6mN3x6"
      },
      "execution_count": null,
      "outputs": []
    },
    {
      "cell_type": "code",
      "source": [
        "t_high = np.linspace(0, 1, 100, endpoint=False)  # 100 samples per second\n",
        "y_high = np.sin(2*np.pi*f*t_high)\n",
        "plt.plot(t_high, y_high)\n",
        "plt.title(\"High Sampling Rate (100 Hz)\")\n",
        "plt.show()"
      ],
      "metadata": {
        "id": "mHqnNCBALSKR"
      },
      "execution_count": null,
      "outputs": []
    },
    {
      "cell_type": "markdown",
      "source": [
        "As we can see, both functions are the same, but the one with a higher number of samples per second will see the sine function in more detail.\n",
        "\n",
        "Here is another example to look at. The <font color='orange'>orange</font> is the high sampling rate, and the <font color='blue'>blue</font> is the low sampling rate."
      ],
      "metadata": {
        "id": "vY0lsZBiLfcZ"
      }
    },
    {
      "cell_type": "code",
      "source": [
        "samplef = 20\n",
        "endtime = 0.05\n",
        "t = np.linspace(0, endtime, samplef, endpoint=False)\n",
        "f = 50\n",
        "V = np.cos(2*f*np.pi*t)\n",
        "\n",
        "samplefs = 10000\n",
        "ts = np.linspace(0, endtime, int(samplefs * endtime), endpoint=False) # int just returns an integer value\n",
        "Vs = np.cos(2*f*np.pi*ts)\n",
        "\n",
        "plt.plot(t, V)\n",
        "plt.plot(ts, Vs)\n",
        "plt.title(f'Sinusoidal Waves')\n",
        "plt.xlabel('Time (seconds)')\n",
        "plt.ylabel('Amplitude')\n",
        "plt.grid(True)\n",
        "plt.show()"
      ],
      "metadata": {
        "id": "N-tCMDrhLv7m"
      },
      "execution_count": null,
      "outputs": []
    },
    {
      "cell_type": "markdown",
      "source": [
        "To avoid the signal being distorted, we typically use $2f = f_s$ as a general rule. This is also known as the *Nyquist frequency*. This means that of any given signal, as long as your sampling frequency is *two times* the frequency of the signal, all the information will be present.\n",
        "\n",
        "---\n",
        "**Extension Task 1**\n",
        "\n",
        "For the code below, choose an appropriate value for a sampling frequency, and then plot the wave."
      ],
      "metadata": {
        "id": "S9D-gf_nMAey"
      }
    },
    {
      "cell_type": "code",
      "source": [
        "f = 50\n",
        "samplef = # Insert value here. (in terms of f)\n",
        "n_wavelengths = # Insert value here. (How many wavelengths you want to plot)\n",
        "period = # Insert value here. (in terms of f)\n",
        "\n",
        "t = np.linspace(0, n_wavelengths*period, n_wavelengths*samplef, endpoint=False)\n",
        "y = np.sin(2*np.pi*f*t)\n",
        "plt.plot(t, y)\n",
        "plt.title(\"Sine wave at 50 Hz\")\n",
        "plt.show()"
      ],
      "metadata": {
        "id": "Gbgz1nMANb72"
      },
      "execution_count": null,
      "outputs": []
    },
    {
      "cell_type": "markdown",
      "source": [
        "# Extension 2: Rotating Phasor"
      ],
      "metadata": {
        "id": "R2FovGvlgJl_"
      }
    },
    {
      "cell_type": "markdown",
      "source": [
        "Phasors rotate *anti-clockwise* to produce the sine wave we see in AC. The code cell below shows a rotating phasor with it's corresponding wave. Note that the code cell will take a few minutes to load. You can change the speed and quality by changing the value of s!"
      ],
      "metadata": {
        "id": "FL9yKopigNbS"
      }
    },
    {
      "cell_type": "code",
      "source": [
        "from matplotlib import rc\n",
        "rc('animation', html='jshtml')\n",
        "import math\n",
        "from matplotlib.animation import FuncAnimation"
      ],
      "metadata": {
        "id": "eXK1zkO0g5DV"
      },
      "execution_count": null,
      "outputs": []
    },
    {
      "cell_type": "code",
      "source": [
        "fig, ax = plt.subplots()\n",
        "xdata, ydata = [], []\n",
        "line, = ax.plot([], [], 'r-') # Empty sets are being generated as the animation goes\n",
        "guide, = ax.plot([], [], '-', color='tab:gray')\n",
        "sin_wave, = ax.plot([], [], '-', color='tab:orange')\n",
        "\n",
        "s = 256\n",
        "\n",
        "amplitude = 1\n",
        "angle_degrees = 45  # Angle in degrees\n",
        "angle_radians = np.radians(angle_degrees)\n",
        "\n",
        "ax.grid(True)\n",
        "ax.set_aspect('equal')\n",
        "\n",
        "ax.set_xlabel('X-axis')\n",
        "ax.set_ylabel('Y-axis')\n",
        "ax.set_title('Phasor and the AC wave generated by it')\n",
        "\n",
        "t = np.linspace(0, np.pi, s, endpoint=False)\n",
        "sin_values = np.sin(t * 4)\n",
        "t += 1.5\n",
        "\n",
        "# initial conditions\n",
        "def init():\n",
        "  ax.set_xlim(-1.5, 2 + np.pi)\n",
        "  ax.set_ylim(-1.5, 1.5)\n",
        "\n",
        "  circle = plt.Circle((0, 0), 1, color='b', fill=False, linestyle='--')\n",
        "  ax.add_patch(circle)\n",
        "\n",
        "  line.set_data([0, 1], [0, 0])\n",
        "  guide.set_data([1, 1.5], [0, 0])\n",
        "  sin_wave.set_data(t, sin_values)\n",
        "\n",
        "  return line, guide, sin_wave\n",
        "\n",
        "# animation update\n",
        "def update(frame):\n",
        "  angle = 2 * np.pi * frame / s\n",
        "\n",
        "  real_part = amplitude * np.cos(angle)\n",
        "  imaginary_part = amplitude * np.sin(angle)\n",
        "\n",
        "  y_values = np.roll(sin_values, -(frame // 2))\n",
        "\n",
        "  line.set_data([0, real_part], [0, imaginary_part])\n",
        "  guide.set_data([real_part, 1.5], [imaginary_part, y_values[0]])\n",
        "  sin_wave.set_data(t, y_values)\n",
        "\n",
        "  return line, guide, sin_wave\n",
        "\n",
        "plt.close()\n",
        "\n",
        "FuncAnimation(fig, update, interval=20, frames=np.arange(0, s), init_func=init, blit=True) # This is what displays the animation! You can also change the interval value!"
      ],
      "metadata": {
        "id": "gX_x-GCYgMno"
      },
      "execution_count": null,
      "outputs": []
    }
  ]
}